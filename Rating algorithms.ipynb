{
 "cells": [
  {
   "cell_type": "markdown",
   "id": "5b2456ea",
   "metadata": {},
   "source": [
    "# Ranking algorithms\n",
    "These algorithms will be implemented as part of the demo for our legal API. They assist in filtering lawyers and recommendations as needed. To filter by attributes, tags (attributes) will be assigned to each lawyer (instance). A dataframe with binary labels is the approach to take. Classical ML algorithms include Random Forests/Decision Trees (require a label), KNN (unsupervised). Other options that Adam thinks are inappropriate but can be explored are SVM and logistic regression. More advanced deep learning techniques such as neural networks should be applied to the chatbot instead in Adam's opinion because these techniques are reserved to applications involving the replication or simulation of human brain behaviour."
   ]
  },
  {
   "cell_type": "markdown",
   "id": "e728f690",
   "metadata": {},
   "source": [
    "## EDA of initial state"
   ]
  },
  {
   "cell_type": "markdown",
   "id": "2015d5fb",
   "metadata": {},
   "source": [
    "## Groupby rank\n",
    "* Ranking relies on sorting methods\n",
    "* Requires a csv (excel) file storing all the data about each lawyer with the matrics (ratings, number of visits by consumer(s) for the lawyer chosen, location, recency, other possible factors TBD)\n",
    "* Solution to impute missing data: push ranking to bottom of filter. (eg. if rating unknown or not entered, ranking is last but shortcomings in bias)\n",
    "* Imputation solutions TBD"
   ]
  },
  {
   "cell_type": "code",
   "execution_count": 1,
   "id": "0a2ac773",
   "metadata": {},
   "outputs": [],
   "source": [
    "import pandas as pd"
   ]
  },
  {
   "cell_type": "markdown",
   "id": "ff3edc02",
   "metadata": {},
   "source": [
    "## PageRank\n",
    "* Fundamental algorithm that founders of Google implemented to create their rankings system of webpages in the 90s. Heavily modified or not used at all nowadays because of multiple reasons.\n",
    "* Shortcomings and edge cases: more 'experienced' lawyers likely to get top rankings whilst emerging lawyers do not get a chance at all to be viewed. Heavy biases. \n",
    "* Easy implementation, weightings can be adjusted to account for poor performing lawyers who may be viewed regularly"
   ]
  },
  {
   "cell_type": "code",
   "execution_count": null,
   "id": "5dc16242",
   "metadata": {},
   "outputs": [],
   "source": [
    "import networkx as nx"
   ]
  },
  {
   "cell_type": "markdown",
   "id": "e8377fb2",
   "metadata": {},
   "source": [
    "## Collaborative filtering (AdaKNN)"
   ]
  },
  {
   "cell_type": "markdown",
   "id": "f29abcd2",
   "metadata": {},
   "source": [
    "* Filters based on similar users' choices (a recommendation system implemented by streaming services)\n",
    "* Factors that can be accounted for: rating (explicit reactions), time spent on lawyer's page (implicit reaction)\n",
    "* To use this technique how do we address biases during the initialisation phase\n",
    "* Normalisation techniques?\n",
    "* Issue is that clients don't usually browse and rate lawyers like they do to films and restaurants"
   ]
  },
  {
   "cell_type": "markdown",
   "id": "f772b40d",
   "metadata": {},
   "source": [
    "### Procedure\n",
    "* Find a set of users with similar behaviours to target user\n",
    "* Use cosine similarity to find region of similar users\n",
    "* To remove 'tough critic' biases, subtract the mean of a user's vector from each component.\n",
    "* Measure accuracy of user's predicted behaviour by using RMSE\n",
    "\n",
    "For more details on the technical procedure: https://realpython.com/build-recommendation-engine-collaborative-filtering/#:~:text=Collaborative%20filtering%20is%20a%20technique,similar%20to%20a%20particular%20user."
   ]
  },
  {
   "cell_type": "code",
   "execution_count": 1,
   "id": "9a5f917f",
   "metadata": {
    "scrolled": true
   },
   "outputs": [
    {
     "name": "stdout",
     "output_type": "stream",
     "text": [
      "Distance between a and b: 0.9327379053088816\n",
      "Distance between b and c: 0.7615773105863908\n",
      "Distance between a and c: 1.1704699910719625\n",
      "angle between a and b: 0.00512161046424553\n",
      "angle between c and b: 0.0045009587866460254\n",
      "angle between a and c: 0.013312179972831295\n"
     ]
    }
   ],
   "source": [
    "from scipy import spatial\n",
    "#demonstration on rating scale 0-5\n",
    "a=(2.5,4,4.5,2.1)\n",
    "b=(3,4.7,4.3,2.4)\n",
    "c=(3.4,4.2,3.9,2.5)\n",
    "#least distance indicates most similar\n",
    "print(f'Distance between a and b: {spatial.distance.euclidean(a,b)}')\n",
    "print(f'Distance between b and c: {spatial.distance.euclidean(c,b)}')\n",
    "print(f'Distance between a and c: {spatial.distance.euclidean(a,c)}')\n",
    "#considering other geometric factors in higher dimensional space\n",
    "print(f'angle between a and b: {spatial.distance.cosine(a,b)}')\n",
    "print(f'angle between c and b: {spatial.distance.cosine(c,b)}')\n",
    "print(f'angle between a and c: {spatial.distance.cosine(a,c)}')"
   ]
  },
  {
   "cell_type": "markdown",
   "id": "85026e57",
   "metadata": {},
   "source": [
    "## AES explanation\n",
    "* There was something in the 80s called RSA intended to protect messages being sent from one party to another but it had limited capabilities in encryption ability. This was to do with hashing keys and whatnot.\n",
    "* Eventually, new ways of encrypting stuff came out where hashing keys became more robust so messages became harder to read for people who did not have the encryption keys. Right now, the most secure standard of encryption is called AES (advanced encryption standard) and is regularly used in wifi to make messages sent through Discord, etc. not easy to read unless some serious breach occurs. We use 256 bit encryption because it contains the most layers of processing to create keys. "
   ]
  }
 ],
 "metadata": {
  "kernelspec": {
   "display_name": "Python 3 (ipykernel)",
   "language": "python",
   "name": "python3"
  },
  "language_info": {
   "codemirror_mode": {
    "name": "ipython",
    "version": 3
   },
   "file_extension": ".py",
   "mimetype": "text/x-python",
   "name": "python",
   "nbconvert_exporter": "python",
   "pygments_lexer": "ipython3",
   "version": "3.9.13"
  }
 },
 "nbformat": 4,
 "nbformat_minor": 5
}
