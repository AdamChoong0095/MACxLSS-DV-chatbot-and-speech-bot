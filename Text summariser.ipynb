{
 "cells": [
  {
   "cell_type": "markdown",
   "id": "b3370a20",
   "metadata": {},
   "source": [
    "# Text summariser\n",
    "Using natural language processing techniques, create summaries for different texts."
   ]
  },
  {
   "cell_type": "code",
   "execution_count": 1,
   "id": "de53ecb5",
   "metadata": {},
   "outputs": [],
   "source": [
    "from nltk.corpus import stopwords\n",
    "from nltk.tokenize import word_tokenize,sent_tokenize"
   ]
  },
  {
   "cell_type": "markdown",
   "id": "d2f45014",
   "metadata": {},
   "source": [
    "* A corpus is a collection of text\n",
    "* Tokenization is the process of reducing a section of text into tokens.\n",
    "\n",
    "## Procedure:\n",
    "* Remove stop words (unnecessary words that do not add meaning to a text)\n",
    "* Create a frequency table of existing words\n",
    "* Assign a score to each sentence depending on the frequency table generated before. Can add different weightings to words in frequency table but not required in this task.\n",
    "* Compare scores of setences to a threshold to determine if these setences are important to the summary. (Use mean score in this case) Rank eligible setences above threshold by score."
   ]
  },
  {
   "cell_type": "code",
   "execution_count": 3,
   "id": "a1c01f31",
   "metadata": {
    "scrolled": true
   },
   "outputs": [
    {
     "name": "stdout",
     "output_type": "stream",
     "text": [
      "Type text here: Twinkle, twinkle, little star, How I wonder what you are! Up above the world so high, Like a diamond in the sky.  When the blazing sun is gone, When he nothing shines upon, Then you show your little light, Twinkle, twinkle, all the night.  Then the trav'ller in the dark, Thanks you for your tiny spark, He could not see which way to go, If you did not twinkle so.  In the dark blue sky you keep, And often thro' my curtains peep, For you never shut your eye, Till the sun is in the sky.  'Tis your bright and tiny spark, Lights the trav'ller in the dark, Tho' I know not what you are, Twinkle, twinkle, little star.\n",
      "'Tis your bright and tiny spark, Lights the trav'ller in the dark, Tho' I know not what you are, Twinkle, twinkle, little star.\n"
     ]
    }
   ],
   "source": [
    "#accept an input of text\n",
    "text=input(\"Type text here: \")\n",
    "#instantiate model that removes stopwords\n",
    "stopWords=set(stopwords.words('english'))\n",
    "#find words and sentences relevant to the frequency table\n",
    "words=word_tokenize(text)\n",
    "sentences=sent_tokenize(text)\n",
    "#store details of the frequencies and weightings of different sentences and words\n",
    "freq=dict()\n",
    "weightings=dict()\n",
    "#tally up frequencies of words\n",
    "for word in words:\n",
    "    word=word.lower()\n",
    "    if word in stopWords:\n",
    "        continue\n",
    "    if word in freq:\n",
    "        freq[word]+=1\n",
    "    else:\n",
    "        freq[word]=1\n",
    "#store weights of sentences\n",
    "for sentence in sentences:\n",
    "    for word,f in freq.items():\n",
    "        if word in sentence.lower():\n",
    "            if sentence in weightings:\n",
    "                weightings[sentence]+=f\n",
    "            else:\n",
    "                weightings[sentence]=f\n",
    "#determine threshold using averaging method\n",
    "sum_weight=0\n",
    "for sentence in weightings:\n",
    "    sum_weight+=weightings[sentence]\n",
    "threshold=int(sum_weight/len(weightings))#HYPERPARAMETER\n",
    "#creating summary\n",
    "summary=''\n",
    "imp_factor=1.2#HYPERPARAMETER\n",
    "for sentence in sentences:\n",
    "    if (sentence in weightings) and (weightings[sentence]>(imp_factor*threshold)):\n",
    "        summary+=sentence\n",
    "print(summary)"
   ]
  },
  {
   "cell_type": "markdown",
   "id": "6e690134",
   "metadata": {},
   "source": [
    "## Limitations\n",
    "* Contextual summarisation\n",
    "* Sentiment analysis on certain sentences cannot be performed so some sentences of symobllic importance cannot be included even if they are essential to the summary.\n",
    "* Upper limit on space complexity"
   ]
  }
 ],
 "metadata": {
  "kernelspec": {
   "display_name": "Python 3 (ipykernel)",
   "language": "python",
   "name": "python3"
  },
  "language_info": {
   "codemirror_mode": {
    "name": "ipython",
    "version": 3
   },
   "file_extension": ".py",
   "mimetype": "text/x-python",
   "name": "python",
   "nbconvert_exporter": "python",
   "pygments_lexer": "ipython3",
   "version": "3.9.13"
  }
 },
 "nbformat": 4,
 "nbformat_minor": 5
}
